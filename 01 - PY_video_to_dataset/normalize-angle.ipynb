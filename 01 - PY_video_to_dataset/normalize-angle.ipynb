{
 "cells": [
  {
   "cell_type": "code",
   "execution_count": 4,
   "metadata": {},
   "outputs": [
    {
     "name": "stdout",
     "output_type": "stream",
     "text": [
      "            image_name     yaw   pitch    roll\n",
      "0  figura5_frame_0.png  0.1387  0.6184 -0.0545\n",
      "1  figura5_frame_1.png  0.1464  0.6246 -0.0658\n",
      "2  figura5_frame_2.png  0.1451  0.6170 -0.0589\n",
      "3  figura5_frame_3.png  0.1421  0.6115 -0.0536\n",
      "4  figura5_frame_4.png  0.1414  0.6037 -0.0514\n",
      "            image_name angle_magnitude_norm\n",
      "0  figura5_frame_0.png             0,089042\n",
      "1  figura5_frame_1.png             0,107978\n",
      "2  figura5_frame_2.png             0,090033\n",
      "3  figura5_frame_3.png             0,076063\n",
      "4  figura5_frame_4.png             0,059020\n",
      "Archivo guardado en Angulo_figuras_normalizado.csv\n"
     ]
    }
   ],
   "source": [
    "import pandas as pd\n",
    "from sklearn.preprocessing import MinMaxScaler\n",
    "import numpy as np\n",
    "\n",
    "# Cargar el archivo CSV\n",
    "file_path = 'angulo_frames_figuras.csv'  # Reemplaza con la ruta a tu archivo\n",
    "df = pd.read_csv(file_path, delimiter=';', decimal=',')\n",
    "\n",
    "# Visualizar el contenido del archivo\n",
    "print(df.head())\n",
    "df.columns = df.columns.str.strip()  # Elimina espacios en blanco alrededor de los nombres de columnas\n",
    "\n",
    "# Seleccionar las columnas de ángulos\n",
    "angles = df[['yaw', 'pitch', 'roll']]\n",
    "\n",
    "# Calcular la magnitud de los ángulos como una medida combinada (similar a la magnitud de un vector)\n",
    "# sqrt(yaw_avg^2 + pitch_avg^2 + roll_avg^2)\n",
    "magnitude = np.sqrt((angles**2).sum(axis=1))\n",
    "\n",
    "# Normalizar la magnitud al rango [-1, 1]\n",
    "scaler = MinMaxScaler(feature_range=(-1, 1))\n",
    "magnitude_normalized = scaler.fit_transform(magnitude.values.reshape(-1, 1))\n",
    "\n",
    "# Añadir la columna normalizada al DataFrame original\n",
    "df['angle_magnitude_norm'] = magnitude_normalized\n",
    "\n",
    "# Convertir los valores a formato string con comas como separadores decimales\n",
    "df['angle_magnitude_norm'] = df['angle_magnitude_norm'].apply(lambda x: f\"{x:.6f}\".replace('.', ','))\n",
    "\n",
    "# Visualizar los datos normalizados\n",
    "print(df[['image_name', 'angle_magnitude_norm']].head())\n",
    "\n",
    "# Guardar el nuevo archivo con los valores normalizados\n",
    "output_path = 'Angulo_figuras_normalizado.csv'  # Ruta de salida\n",
    "df[['image_name', 'angle_magnitude_norm']].to_csv(output_path, index=False, sep=';', decimal=',')  # Usar ';' como delimitador y ',' como decimal\n",
    "\n",
    "print(f\"Archivo guardado en {output_path}\")\n"
   ]
  }
 ],
 "metadata": {
  "kernelspec": {
   "display_name": "base",
   "language": "python",
   "name": "python3"
  },
  "language_info": {
   "codemirror_mode": {
    "name": "ipython",
    "version": 3
   },
   "file_extension": ".py",
   "mimetype": "text/x-python",
   "name": "python",
   "nbconvert_exporter": "python",
   "pygments_lexer": "ipython3",
   "version": "3.11.7"
  }
 },
 "nbformat": 4,
 "nbformat_minor": 2
}
